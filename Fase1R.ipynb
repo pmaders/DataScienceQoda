{
  "nbformat": 4,
  "nbformat_minor": 0,
  "metadata": {
    "colab": {
      "name": "Fase1R.ipynb",
      "provenance": [],
      "include_colab_link": true
    },
    "kernelspec": {
      "name": "ir",
      "display_name": "R"
    }
  },
  "cells": [
    {
      "cell_type": "markdown",
      "metadata": {
        "id": "view-in-github",
        "colab_type": "text"
      },
      "source": [
        "<a href=\"https://colab.research.google.com/github/pmaders/DataScienceQoda/blob/master/Fase1R.ipynb\" target=\"_parent\"><img src=\"https://colab.research.google.com/assets/colab-badge.svg\" alt=\"Open In Colab\"/></a>"
      ]
    },
    {
      "cell_type": "markdown",
      "metadata": {
        "id": "Z2Kl9pfj0JKM",
        "colab_type": "text"
      },
      "source": [
        "# Seja ensinável e execute as tarefas compartilhadas. Por fins didáticos e para melhor separação mental das sintaxes Python/R, realizaremos todos os exercícios de Python em R.\n",
        "![alt text](https://media.giphy.com/media/d3mlE7uhX8KFgEmY/200.gif)"
      ]
    },
    {
      "cell_type": "markdown",
      "metadata": {
        "id": "j9ZuOU7Kyh9O",
        "colab_type": "text"
      },
      "source": [
        "Crie um algoritmo em R que mostre a mensagem \"Alo mundo\" na tela."
      ]
    },
    {
      "cell_type": "code",
      "metadata": {
        "id": "tlFupLd-ydTB",
        "colab_type": "code",
        "colab": {
          "base_uri": "https://localhost:8080/",
          "height": 34
        },
        "outputId": "2c72c075-7c6e-40f0-c31f-acbe2b450cf5"
      },
      "source": [
        "\n",
        "print('Alo mundo')"
      ],
      "execution_count": 1,
      "outputs": [
        {
          "output_type": "stream",
          "text": [
            "[1] \"Alo mundo\"\n"
          ],
          "name": "stdout"
        }
      ]
    },
    {
      "cell_type": "markdown",
      "metadata": {
        "id": "yhw2owA-zbrn",
        "colab_type": "text"
      },
      "source": [
        "Crie um algoritmo em R que peça dois números e imprima a soma."
      ]
    },
    {
      "cell_type": "code",
      "metadata": {
        "id": "RJJtXkvV0qzj",
        "colab_type": "code",
        "colab": {
          "base_uri": "https://localhost:8080/",
          "height": 68
        },
        "outputId": "c76b82cc-39b7-4a89-8569-b483ef05743a"
      },
      "source": [
        "n1 <- as.integer(readline(prompt = \"Informe o 1o número: \"))\n",
        "n2 <- as.integer(readline(prompt = \"Informe o 2o número: \"))\n",
        "print(paste(\"A soma dos números é:\",n1+n2))"
      ],
      "execution_count": 2,
      "outputs": [
        {
          "output_type": "stream",
          "text": [
            "Informe o 1o número: 1\n",
            "Informe o 2o número: 2\n",
            "[1] \"A soma dos números é: 3\"\n"
          ],
          "name": "stdout"
        }
      ]
    },
    {
      "cell_type": "markdown",
      "metadata": {
        "id": "35RwPIIF0w3i",
        "colab_type": "text"
      },
      "source": [
        "Crie um algoritmo em R que peça um número e então mostre a mensagem O número informado foi [número]."
      ]
    },
    {
      "cell_type": "code",
      "metadata": {
        "id": "NEFu-8L808HB",
        "colab_type": "code",
        "colab": {
          "base_uri": "https://localhost:8080/",
          "height": 51
        },
        "outputId": "c2441ea1-e0a4-426b-924a-50ad2d57992c"
      },
      "source": [
        "n <- as.integer(readline(prompt = \"Informe um número: \"))\n",
        "print(paste(\"O numero informado foi:\",n))"
      ],
      "execution_count": 3,
      "outputs": [
        {
          "output_type": "stream",
          "text": [
            "Informe um número: 41\n",
            "[1] \"O numero informado foi: 41\"\n"
          ],
          "name": "stdout"
        }
      ]
    },
    {
      "cell_type": "markdown",
      "metadata": {
        "id": "_OGQmoYA08bI",
        "colab_type": "text"
      },
      "source": [
        "Crie um algoritmo em R que converta metros para centímetros."
      ]
    },
    {
      "cell_type": "code",
      "metadata": {
        "id": "xxgmQ5j21Abx",
        "colab_type": "code",
        "colab": {
          "base_uri": "https://localhost:8080/",
          "height": 34
        },
        "outputId": "c5072373-5d45-43e3-8715-3c56616b636a"
      },
      "source": [
        "print(paste(\"Convertendo\",n,\"para centímetros: \",n*0.01))"
      ],
      "execution_count": 4,
      "outputs": [
        {
          "output_type": "stream",
          "text": [
            "[1] \"Convertendo 41 para centímetros:  0.41\"\n"
          ],
          "name": "stdout"
        }
      ]
    },
    {
      "cell_type": "markdown",
      "metadata": {
        "id": "kP9TOwKo1AnS",
        "colab_type": "text"
      },
      "source": [
        "Crie um algoritmo em Python que peça as 4 notas bimestrais e mostre a média."
      ]
    },
    {
      "cell_type": "code",
      "metadata": {
        "id": "Tj5xsjC-1D5I",
        "colab_type": "code",
        "colab": {
          "base_uri": "https://localhost:8080/",
          "height": 102
        },
        "outputId": "b7009a34-6b4e-437d-b208-c941433197f6"
      },
      "source": [
        "n1 <- readline(prompt = \"Informe o 1o número: \")\n",
        "n1 <- as.numeric(n1)\n",
        "n2 <- readline(prompt = \"Informe o 2o número: \")\n",
        "n2 <- as.numeric(n2)\n",
        "n3 <- readline(prompt = \"Informe o 3o número: \")\n",
        "n3 <- as.numeric(n3)\n",
        "n4 <- readline(prompt = \"Informe o 4o número: \")\n",
        "n4 <- as.numeric(n4)\n",
        "\n",
        "print(paste(\"A média das 4 notas é: \",(n1+n2+n3+n4)/4))"
      ],
      "execution_count": 5,
      "outputs": [
        {
          "output_type": "stream",
          "text": [
            "Informe o 1o número: 4\n",
            "Informe o 2o número: 8\n",
            "Informe o 3o número: 9\n",
            "Informe o 4o número: 7\n",
            "[1] \"A média das 4 notas é:  7\"\n"
          ],
          "name": "stdout"
        }
      ]
    },
    {
      "cell_type": "markdown",
      "metadata": {
        "id": "6vgD9pl81EGd",
        "colab_type": "text"
      },
      "source": [
        "Crie um algoritmo em R que peça o raio de um círculo, calcule e mostre sua área."
      ]
    },
    {
      "cell_type": "code",
      "metadata": {
        "id": "3h1VOEuR1KGz",
        "colab_type": "code",
        "colab": {
          "base_uri": "https://localhost:8080/",
          "height": 51
        },
        "outputId": "82345bec-5b07-4d53-ad59-e8e43a4458a8"
      },
      "source": [
        "r <- as.numeric(readline(prompt = \"Informe o raio do cículo: \"))\n",
        "print(paste(\"A área com o raio\",r,\"é: \", 2 * 3.14 * r))"
      ],
      "execution_count": 6,
      "outputs": [
        {
          "output_type": "stream",
          "text": [
            "Informe o raio do cículo: 5\n",
            "[1] \"A área com o raio 5 é:  31.4\"\n"
          ],
          "name": "stdout"
        }
      ]
    },
    {
      "cell_type": "markdown",
      "metadata": {
        "id": "QXhvPnMQ1Kd6",
        "colab_type": "text"
      },
      "source": [
        "Crie um algoritmo em R que calcule a área de um quadrado, em seguida mostre o dobro desta área para o usuário."
      ]
    },
    {
      "cell_type": "code",
      "metadata": {
        "id": "ywZkuhmt1N7l",
        "colab_type": "code",
        "colab": {}
      },
      "source": [
        "q <- readline(prompt = \"Informe o lado do quadrado: \")\n",
        "q <- as.numeric(q)\n",
        "area=q*q\n",
        "print(paste(\"O dobro desta área é: \",2*area))"
      ],
      "execution_count": 0,
      "outputs": []
    },
    {
      "cell_type": "markdown",
      "metadata": {
        "id": "F-rpjggB1T5G",
        "colab_type": "text"
      },
      "source": [
        "Crie um algoritmo em R que pergunte quanto você ganha por hora e o número de horas trabalhadas no mês. Calcule e mostre o total do seu salário no referido mês.\n"
      ]
    },
    {
      "cell_type": "code",
      "metadata": {
        "id": "nvMchfOZ2_vC",
        "colab_type": "code",
        "colab": {}
      },
      "source": [
        "ganho <- readline(\"Informe quanto vc ganha por hora de trabalho:\")\n",
        "ganho <- as.numeric(ganho)\n",
        "horas <- readline(\"Informe quantas horas vc trabalha por mes:\")\n",
        "horas <- as.numeric(horas)\n",
        "print(paste(\"Seu salário no mês é de:\", ganho*horas,\"reais\"))"
      ],
      "execution_count": 0,
      "outputs": []
    },
    {
      "cell_type": "markdown",
      "metadata": {
        "id": "C-H4OWh03DFn",
        "colab_type": "text"
      },
      "source": [
        "Crie um algoritmo em R que peça a temperatura em graus Farenheit, transforme e mostre a temperatura em graus Celsius.\n",
        "C = (5 * (F-32) / 9)."
      ]
    },
    {
      "cell_type": "code",
      "metadata": {
        "id": "vs5qFAKx3Eyi",
        "colab_type": "code",
        "colab": {}
      },
      "source": [
        "f <- readline(\"Informe a temperatura em graus Farenheit: \")\n",
        "f <- as.numeric(f)\n",
        "print(paste(\"Convertendo para graus Celsius:\", (5*(f-32)/9)))"
      ],
      "execution_count": 0,
      "outputs": []
    },
    {
      "cell_type": "markdown",
      "metadata": {
        "id": "PGccudSo3E54",
        "colab_type": "text"
      },
      "source": [
        "Crie um algoritmo em R que peça a temperatura em graus Celsius, transforme e mostre em graus Farenheit."
      ]
    },
    {
      "cell_type": "code",
      "metadata": {
        "id": "_zfLyopV3IqV",
        "colab_type": "code",
        "colab": {}
      },
      "source": [
        "c <- readline((\"Informe a temperatura em graus Farenheit: \"))\n",
        "c <- as.numeric(c)\n",
        "print(paste(\"Convertendo para graus Celsius:\", ((c*9/5)+32)))"
      ],
      "execution_count": 0,
      "outputs": []
    },
    {
      "cell_type": "markdown",
      "metadata": {
        "id": "bu3Zyati3Iwc",
        "colab_type": "text"
      },
      "source": [
        "Crie um algoritmo em R que peça 2 números inteiros e um número real. Calcule e mostre:\n",
        "* a soma do dobro do primeiro com metade do segundo .\n",
        "* a soma do triplo do primeiro com o terceiro.\n",
        "* o terceiro elevado ao cubo."
      ]
    },
    {
      "cell_type": "code",
      "metadata": {
        "id": "Peo4D5Sz3PDC",
        "colab_type": "code",
        "colab": {}
      },
      "source": [
        "n1 <- as.integer(readline(prompt = \"Informe o 1o número: \"))\n",
        "n2 <- as.integer(readline(prompt = \"Informe o 2o número: \"))\n",
        "n3 <- as.numeric(readline(prompt = \"Informe o 3o número: \"))\n",
        "\n",
        "print(paste(\":\", ((2*n1)+(n2/3))))\n",
        "print(paste(\":\", ((n1*3)+n3)))\n",
        "print(paste(\":\", (n3**3)))"
      ],
      "execution_count": 0,
      "outputs": []
    }
  ]
}