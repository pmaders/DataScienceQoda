{
  "nbformat": 4,
  "nbformat_minor": 0,
  "metadata": {
    "colab": {
      "name": "Fase1.ipynb",
      "provenance": [],
      "include_colab_link": true
    },
    "kernelspec": {
      "name": "python3",
      "display_name": "Python 3"
    }
  },
  "cells": [
    {
      "cell_type": "markdown",
      "metadata": {
        "id": "view-in-github",
        "colab_type": "text"
      },
      "source": [
        "<a href=\"https://colab.research.google.com/github/pmaders/DataScienceQoda/blob/master/Fase1.ipynb\" target=\"_parent\"><img src=\"https://colab.research.google.com/assets/colab-badge.svg\" alt=\"Open In Colab\"/></a>"
      ]
    },
    {
      "cell_type": "markdown",
      "metadata": {
        "id": "CYNAmoj4zSXl",
        "colab_type": "text"
      },
      "source": [
        "Crie um algoritmo em Python que mostre a mensagem \"Alo mundo\" na tela."
      ]
    },
    {
      "cell_type": "code",
      "metadata": {
        "id": "ViAfpy3GzPN-",
        "colab_type": "code",
        "colab": {
          "base_uri": "https://localhost:8080/",
          "height": 34
        },
        "outputId": "e8acff96-d52a-46c2-fff9-475f4c1bf8cd"
      },
      "source": [
        "print (\"Alo mundo\")"
      ],
      "execution_count": 2,
      "outputs": [
        {
          "output_type": "stream",
          "text": [
            "Alo mundo\n"
          ],
          "name": "stdout"
        }
      ]
    },
    {
      "cell_type": "markdown",
      "metadata": {
        "id": "gdMis92izSmQ",
        "colab_type": "text"
      },
      "source": [
        "Crie um algoritmo em Python que peça dois números e imprima a soma."
      ]
    },
    {
      "cell_type": "code",
      "metadata": {
        "id": "BFpWkdCBz_zh",
        "colab_type": "code",
        "colab": {
          "base_uri": "https://localhost:8080/",
          "height": 68
        },
        "outputId": "38c72b85-8ad8-44c9-a351-71bc201a95f3"
      },
      "source": [
        "n1 = int(input(\"Digite um número: \"))\n",
        "n2 = int(input(\"Digite outro número: \"))\n",
        "soma = n1 + n2\n",
        "print (\"A soma dos dois números é\", soma,\".\")"
      ],
      "execution_count": 8,
      "outputs": [
        {
          "output_type": "stream",
          "text": [
            "Digite um número: 56\n",
            "Digite outro número: 87\n",
            "A soma dos dois números é 143 .\n"
          ],
          "name": "stdout"
        }
      ]
    },
    {
      "cell_type": "markdown",
      "metadata": {
        "id": "E_0l_Vx6zSo2",
        "colab_type": "text"
      },
      "source": [
        "Crie um algoritmo em Python que peça um número e então mostre a mensagem O número informado foi [número]."
      ]
    },
    {
      "cell_type": "code",
      "metadata": {
        "id": "KwJf7XZS0AZW",
        "colab_type": "code",
        "colab": {
          "base_uri": "https://localhost:8080/",
          "height": 51
        },
        "outputId": "4eda10a7-38a9-4221-f116-205ca1c2aa2c"
      },
      "source": [
        "num= int(input(\"Digite seu telefone: \"))\n",
        "print (\"O número informado foi\", num,\".\")"
      ],
      "execution_count": 9,
      "outputs": [
        {
          "output_type": "stream",
          "text": [
            "Digite seu telefone: 81171302\n",
            "O número informado foi 81171302 .\n"
          ],
          "name": "stdout"
        }
      ]
    },
    {
      "cell_type": "markdown",
      "metadata": {
        "id": "1i4VCiiczSrL",
        "colab_type": "text"
      },
      "source": [
        "Crie um algoritmo em Python que converta metros para centímetros."
      ]
    },
    {
      "cell_type": "code",
      "metadata": {
        "id": "yoW67hjA0BHy",
        "colab_type": "code",
        "colab": {
          "base_uri": "https://localhost:8080/",
          "height": 51
        },
        "outputId": "96b525e9-2ce6-45d4-8b28-19b88465884b"
      },
      "source": [
        "metros = float (input('Quantos metros?'))\n",
        "\n",
        "centimetros = metros * 100;\n",
        "\n",
        "print (metros, \"metros é igual a\", centimetros, ' cm.')\n"
      ],
      "execution_count": 19,
      "outputs": [
        {
          "output_type": "stream",
          "text": [
            "Quantos metros?8\n",
            "8.0 metros é igual a 800.0  cm.\n"
          ],
          "name": "stdout"
        }
      ]
    },
    {
      "cell_type": "markdown",
      "metadata": {
        "id": "4ep7kezvzStO",
        "colab_type": "text"
      },
      "source": [
        "Crie um algoritmo em Python que peça as 4 notas bimestrais e mostre a média."
      ]
    },
    {
      "cell_type": "code",
      "metadata": {
        "id": "6K6IHWdr0Blt",
        "colab_type": "code",
        "colab": {
          "base_uri": "https://localhost:8080/",
          "height": 102
        },
        "outputId": "55f6cc98-f7ba-4e87-af7e-70cf41fd8d27"
      },
      "source": [
        "nota1 = int(input(\"Digite sua nota da prova 1: \"))\n",
        "nota2 = int(input(\"Digite sua nota da prova 2: \"))\n",
        "nota3 = int(input(\"Digite sua nota da prova 3: \"))\n",
        "nota4 = int(input(\"Digite sua nota da prova 4: \"))\n",
        "media = (nota1+nota2+nota3+nota4)/4\n",
        "print (\"A média final é\", media)"
      ],
      "execution_count": 23,
      "outputs": [
        {
          "output_type": "stream",
          "text": [
            "Digite sua nota da prova 1: 5\n",
            "Digite sua nota da prova 2: 6\n",
            "Digite sua nota da prova 3: 9\n",
            "Digite sua nota da prova 4: 7\n",
            "A média final é 6.75\n"
          ],
          "name": "stdout"
        }
      ]
    },
    {
      "cell_type": "markdown",
      "metadata": {
        "id": "u6__NaXqzeYg",
        "colab_type": "text"
      },
      "source": [
        "Crie um algoritmo em Python que peça o raio de um círculo, calcule e mostre sua área."
      ]
    },
    {
      "cell_type": "code",
      "metadata": {
        "id": "mm2L7g3x0Cfx",
        "colab_type": "code",
        "colab": {
          "base_uri": "https://localhost:8080/",
          "height": 51
        },
        "outputId": "9bc0f20d-be34-493d-bbe4-6d3d2c108a00"
      },
      "source": [
        "r = float(input(\"Informe o raio do cículo: \"))\n",
        "print(f\"A área com o raio {r} é:\", 2 * 3.14 * r)"
      ],
      "execution_count": 24,
      "outputs": [
        {
          "output_type": "stream",
          "text": [
            "Informe o raio do cículo: 5\n",
            "A área com o raio 5.0 é: 31.400000000000002\n"
          ],
          "name": "stdout"
        }
      ]
    },
    {
      "cell_type": "markdown",
      "metadata": {
        "id": "lIlfG-ATzgOr",
        "colab_type": "text"
      },
      "source": [
        "Crie um algoritmo em Python que calcule a área de um quadrado, em seguida mostre o dobro desta área para o usuário."
      ]
    },
    {
      "cell_type": "code",
      "metadata": {
        "id": "-y4pB6br0DD_",
        "colab_type": "code",
        "colab": {
          "base_uri": "https://localhost:8080/",
          "height": 51
        },
        "outputId": "94a56944-4cb1-438a-c7de-8d203d0f734a"
      },
      "source": [
        "lado = int(input(\"Digite o lado do quadrado: \"))\n",
        "area = lado*lado\n",
        "print (\"O dobro da área do quadrado é\", area*2, \".\")"
      ],
      "execution_count": 26,
      "outputs": [
        {
          "output_type": "stream",
          "text": [
            "Digite o lado do quadrado: 5\n",
            "O dobro da área do quadrado é 50 .\n"
          ],
          "name": "stdout"
        }
      ]
    },
    {
      "cell_type": "markdown",
      "metadata": {
        "id": "Vj4OXsJQziu_",
        "colab_type": "text"
      },
      "source": [
        "Crie um algoritmo em Python que pergunte quanto você ganha por hora e o número de horas trabalhadas no mês. Calcule e mostre o total do seu salário no referido mês.\n"
      ]
    },
    {
      "cell_type": "code",
      "metadata": {
        "id": "RmApGpg30D00",
        "colab_type": "code",
        "colab": {
          "base_uri": "https://localhost:8080/",
          "height": 68
        },
        "outputId": "e6008ca8-eba7-4c26-97c7-3a5707990d0d"
      },
      "source": [
        "ganho = float(input(\"Quanto você ganha por hora? \"))\n",
        "horas = float(input(\"Quantas horas trabalha por mês?\"))\n",
        "print (\"Seu salário neste mês é\",  ganho*horas)"
      ],
      "execution_count": 30,
      "outputs": [
        {
          "output_type": "stream",
          "text": [
            "Quanto você ganha por hora? 7\n",
            "Quantas horas trabalha por mês?160\n",
            "Seu salário neste mês é 1120.0\n"
          ],
          "name": "stdout"
        }
      ]
    },
    {
      "cell_type": "markdown",
      "metadata": {
        "id": "e7id8Ewgzlow",
        "colab_type": "text"
      },
      "source": [
        "Crie um algoritmo em Python que peça a temperatura em graus Farenheit, transforme e mostre a temperatura em graus Celsius.\n",
        "C = (5 * (F-32) / 9)."
      ]
    },
    {
      "cell_type": "code",
      "metadata": {
        "id": "Kl0ainsv0Eif",
        "colab_type": "code",
        "colab": {
          "base_uri": "https://localhost:8080/",
          "height": 51
        },
        "outputId": "48af8134-b56b-49b8-90cf-34305f910ab3"
      },
      "source": [
        "far = float(input(\"temperatura em Farenheit: \"))\n",
        "c = (5*(far-32)/9)\n",
        "print (\"A temperatura em celcius é\", c)"
      ],
      "execution_count": 31,
      "outputs": [
        {
          "output_type": "stream",
          "text": [
            "temperatura em Farenheit: 95\n",
            "A temperatura em celcius é 35.0\n"
          ],
          "name": "stdout"
        }
      ]
    },
    {
      "cell_type": "markdown",
      "metadata": {
        "id": "mFCgXRPaznno",
        "colab_type": "text"
      },
      "source": [
        "Crie um algoritmo em Python que peça a temperatura em graus Celsius, transforme e mostre em graus Farenheit."
      ]
    },
    {
      "cell_type": "code",
      "metadata": {
        "id": "xEAAHRi00FS8",
        "colab_type": "code",
        "colab": {
          "base_uri": "https://localhost:8080/",
          "height": 51
        },
        "outputId": "5107c9ff-e647-4021-d3cd-48d93c22ea45"
      },
      "source": [
        "c = float(input(\"Temperatura em Celcius:\"))\n",
        "f = ((c*9/5)+32)\n",
        "print (\"A temperatura em Farenheit é\", f)"
      ],
      "execution_count": 36,
      "outputs": [
        {
          "output_type": "stream",
          "text": [
            "Temperatura em Celcius:5\n",
            "A temperatura em Farenheit é 41.0\n"
          ],
          "name": "stdout"
        }
      ]
    },
    {
      "cell_type": "markdown",
      "metadata": {
        "id": "j3fdhu-8zqu9",
        "colab_type": "text"
      },
      "source": [
        "Crie um algoritmo em Python que peça 2 números inteiros e um número real. Calcule e mostre:\n",
        "* a soma do dobro do primeiro com metade do segundo .\n",
        "* a soma do triplo do primeiro com o terceiro.\n",
        "* o terceiro elevado ao cubo."
      ]
    },
    {
      "cell_type": "code",
      "metadata": {
        "id": "ZEqZrKjt0F5B",
        "colab_type": "code",
        "colab": {
          "base_uri": "https://localhost:8080/",
          "height": 119
        },
        "outputId": "e4583d51-1713-478d-a273-70e6da3787d1"
      },
      "source": [
        "n1 = int(input(\"Informe o 1o numero: \"))\n",
        "n2 = int(input(\"Informe o 2o numero: \"))\n",
        "n3 = float(input(\"Informe o 2o numero: \"))\n",
        "\n",
        "print(f\":\", ((2*n1)+(n2/3)))\n",
        "print(f\":\", ((n1*3)+n3))\n",
        "print(f\":\", (n3**3))"
      ],
      "execution_count": 41,
      "outputs": [
        {
          "output_type": "stream",
          "text": [
            "Informe o 1o numero: 1\n",
            "Informe o 2o numero: 2\n",
            "Informe o 2o numero: 2\n",
            ": 2.6666666666666665\n",
            ": 5.0\n",
            ": 8.0\n"
          ],
          "name": "stdout"
        }
      ]
    }
  ]
}