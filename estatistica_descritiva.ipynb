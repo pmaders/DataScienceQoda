{
  "nbformat": 4,
  "nbformat_minor": 0,
  "metadata": {
    "colab": {
      "name": "estatistica_descritiva.ipynb",
      "provenance": [],
      "private_outputs": true,
      "include_colab_link": true
    },
    "kernelspec": {
      "name": "python3",
      "display_name": "Python 3"
    },
    "accelerator": "GPU"
  },
  "cells": [
    {
      "cell_type": "markdown",
      "metadata": {
        "id": "view-in-github",
        "colab_type": "text"
      },
      "source": [
        "<a href=\"https://colab.research.google.com/github/pmaders/DataScienceQoda/blob/master/estatistica_descritiva.ipynb\" target=\"_parent\"><img src=\"https://colab.research.google.com/assets/colab-badge.svg\" alt=\"Open In Colab\"/></a>"
      ]
    },
    {
      "cell_type": "markdown",
      "metadata": {
        "id": "b8yGAmF-32h-",
        "colab_type": "text"
      },
      "source": [
        "#Organização dos Dados"
      ]
    },
    {
      "cell_type": "code",
      "metadata": {
        "id": "7PRhRg97nP-t",
        "colab_type": "code",
        "colab": {}
      },
      "source": [
        "import pandas as pd\n",
        "df = pd.read_csv('https://raw.githubusercontent.com/selva86/datasets/master/diamonds.csv')\n",
        "df.head()"
      ],
      "execution_count": 0,
      "outputs": []
    },
    {
      "cell_type": "code",
      "metadata": {
        "id": "h_KN3rne7Hi5",
        "colab_type": "code",
        "colab": {}
      },
      "source": [
        "# Histogramas\n",
        "\"\"\"\n",
        "Um histograma visualiza a distribuição dos dados por um intervalo contínuo ou por um determinado período de tempo.\n",
        "Cada barra em um histograma representa a frequência tabulada em cada intervalo / compartimento.\n",
        "Os histogramas ajudam a dar uma estimativa de onde os valores estão concentrados, quais são os extremos e se existem lacunas ou valores incomuns. \n",
        "Eles também são úteis para fornecer uma visão aproximada da distribuição de probabilidade.\n",
        "\"\"\"\n",
        "\n",
        "import matplotlib.pyplot as plt\n",
        "\n",
        "x1 = df.loc[df.cut=='Ideal', 'depth']\n",
        "x2 = df.loc[df.cut=='Fair', 'depth']\n",
        "x3 = df.loc[df.cut=='Good', 'depth']\n",
        "\n",
        "kwargs = dict(alpha=0.5, bins=100)\n",
        "\n",
        "plt.hist(x1, **kwargs, color='g', label='Ideal')\n",
        "plt.hist(x2, **kwargs, color='b', label='Fair')\n",
        "plt.hist(x3, **kwargs, color='r', label='Good')\n",
        "plt.gca().set(title='Frequency Histogram of Diamond Depths', ylabel='Frequency')\n",
        "plt.xlim(50,75)\n",
        "plt.legend();"
      ],
      "execution_count": 0,
      "outputs": []
    },
    {
      "cell_type": "code",
      "metadata": {
        "id": "mhhdajIy7D8X",
        "colab_type": "code",
        "colab": {}
      },
      "source": [
        "# Gráfico de Barras/Colunas\n",
        "\"\"\"\n",
        "O gráfico de barras clássico usa barras horizontais ou verticais (gráfico de colunas) para mostrar comparações numéricas \n",
        "e discretas entre categorias. Um eixo do gráfico mostra as categorias específicas sendo comparadas e o outro eixo representa\n",
        "uma escala de valores discretos. Os gráficos de barras são distintos dos histogramas , pois não exibem desenvolvimentos \n",
        "contínuos por um intervalo. Os dados discretos do Bar Chart são dados categóricos e, portanto, respondem à pergunta \"quantos?\" \n",
        "em cada categoria. Uma falha importante nos gráficos de barras é que a rotulagem se torna problemática quando há um grande número de barras.\n",
        "\"\"\"\n",
        "plt.bar(df['cut'],df['depth'])"
      ],
      "execution_count": 0,
      "outputs": []
    },
    {
      "cell_type": "code",
      "metadata": {
        "id": "tP2XSxV07Fhz",
        "colab_type": "code",
        "colab": {}
      },
      "source": [
        "# Gráfico de Linhas\n",
        "\"\"\"\n",
        "Os gráficos de linhas são usados ​​para exibir valores quantitativos durante um intervalo ou período contínuo. \n",
        "Um gráfico de linhas é usado com mais frequência para mostrar tendências e analisar como os dados foram alterados ao longo do tempo.\n",
        "\"\"\"\n",
        "x = [\"jan\",\"fev\",\"mar\"]\n",
        "y = [40,50,60]\n",
        "plt.plot(x,y)\n",
        "plt.show()"
      ],
      "execution_count": 0,
      "outputs": []
    },
    {
      "cell_type": "markdown",
      "metadata": {
        "id": "I_keTu5x35wW",
        "colab_type": "text"
      },
      "source": [
        "#Medidas de Posição"
      ]
    },
    {
      "cell_type": "code",
      "metadata": {
        "id": "oy2b1fDK49n5",
        "colab_type": "code",
        "colab": {}
      },
      "source": [
        "# MÉDIA é o ponto de equilíbrio de dados no conjunto\n",
        "import numpy as np\n",
        "x = (19,22,23,23,26,26,27,27,27,30,31,32,32,33,34,34,38,38,40,41,42,44,45,45,46)\n",
        "np.mean(x)"
      ],
      "execution_count": 0,
      "outputs": []
    },
    {
      "cell_type": "code",
      "metadata": {
        "id": "p10tKkPP5FM4",
        "colab_type": "code",
        "colab": {}
      },
      "source": [
        "# MEDIANA divide conjunto ordenado em 2 partes iguais, mostrando o valor central\n",
        "import numpy as np\n",
        "x = (19,22,23,23,26,26,27,27,27,30,31,32,32,33,34,34,38,38,40,41,42,44,45,45,46)\n",
        "np.median(x)"
      ],
      "execution_count": 0,
      "outputs": []
    },
    {
      "cell_type": "code",
      "metadata": {
        "id": "sL7rhVHJ5ISv",
        "colab_type": "code",
        "colab": {}
      },
      "source": [
        "# MODA é o valor que mais se repete no conjunto\n",
        "from scipy import stats\n",
        "x = (19,22,23,23,26,26,27,27,27,30,31,32,32,33,34,34,38,38,40,41,42,44,45,45,46)\n",
        "stats.mode(x)"
      ],
      "execution_count": 0,
      "outputs": []
    },
    {
      "cell_type": "markdown",
      "metadata": {
        "id": "jIglyh6y4ljW",
        "colab_type": "text"
      },
      "source": [
        "#Separatrizes(ordenamento)"
      ]
    },
    {
      "cell_type": "code",
      "metadata": {
        "id": "GcfyyQj95gTu",
        "colab_type": "code",
        "colab": {}
      },
      "source": [
        "# QUARTIL\n",
        "import numpy as np\n",
        "x = (19,22,23,23,26,26,27,27,27,30,31,32,32,33,34,34,38,38,40,41,42,44,45,45,46)\n",
        "np.quantile(x, 0.25)"
      ],
      "execution_count": 0,
      "outputs": []
    },
    {
      "cell_type": "code",
      "metadata": {
        "id": "UZxV2cc2sKmO",
        "colab_type": "code",
        "colab": {}
      },
      "source": [
        "# PERCENTIL\n",
        "import numpy as np\n",
        "x = (19,22,23,23,26,26,27,27,27,30,31,32,32,33,34,34,38,38,40,41,42,44,45,45,46)\n",
        "np.percentile(x, 50) # P50 = Mediana, assim como 5º decil"
      ],
      "execution_count": 0,
      "outputs": []
    },
    {
      "cell_type": "markdown",
      "metadata": {
        "id": "zf8sfwAs4prW",
        "colab_type": "text"
      },
      "source": [
        "#Medidas de Variação/Dispersão"
      ]
    },
    {
      "cell_type": "code",
      "metadata": {
        "id": "MeuauiZYpW3x",
        "colab_type": "code",
        "colab": {}
      },
      "source": [
        "# AMPLITUDE\n",
        "import numpy as np\n",
        "x = (19,22,23,23,26,26,27,27,27,30,31,32,32,33,34,34,38,38,40,41,42,44,45,45,46)\n",
        "amp = np.amax(x) - np.min(x)\n",
        "amp\n"
      ],
      "execution_count": 0,
      "outputs": []
    },
    {
      "cell_type": "code",
      "metadata": {
        "id": "iHAnEXrdqqFe",
        "colab_type": "code",
        "colab": {}
      },
      "source": [
        "# VARIÂNCIA\n",
        "import statistics \n",
        "x = (19,22,23,23,26,26,27,27,27,30,31,32,32,33,34,34,38,38,40,41,42,44,45,45,46)\n",
        "statistics.variance(x)"
      ],
      "execution_count": 0,
      "outputs": []
    },
    {
      "cell_type": "code",
      "metadata": {
        "id": "d2Jc0aXerAhu",
        "colab_type": "code",
        "colab": {}
      },
      "source": [
        "# DESVIO PADRÃO\n",
        "import numpy as np\n",
        "x = (19,22,23,23,26,26,27,27,27,30,31,32,32,33,34,34,38,38,40,41,42,44,45,45,46)\n",
        "np.std(x)"
      ],
      "execution_count": 0,
      "outputs": []
    },
    {
      "cell_type": "code",
      "metadata": {
        "id": "A_v8lJZ2rt4J",
        "colab_type": "code",
        "colab": {}
      },
      "source": [
        "# SCORE Z\n",
        "from scipy import stats\n",
        "x = (-225,19,22,23,23,26,26,27,27,27,30,31,32,32,33,34,34,38,38,40,41,42,44,45,45,46)\n",
        "zscore = stats.zscore(x)\n",
        "zscore"
      ],
      "execution_count": 0,
      "outputs": []
    },
    {
      "cell_type": "code",
      "metadata": {
        "id": "YkvSd65osHWB",
        "colab_type": "code",
        "colab": {}
      },
      "source": [
        "# OUTLIERS\n",
        "\"\"\"Valores iguais ou menores que -3 são OUTLIERS.\"\"\"\n",
        "for i in zscore:\n",
        "  if i <= -3:\n",
        "    print(f\"Outlier detectado: {i}\")\n",
        "  else:\n",
        "    pass"
      ],
      "execution_count": 0,
      "outputs": []
    },
    {
      "cell_type": "code",
      "metadata": {
        "id": "UQJUsfestXgW",
        "colab_type": "code",
        "colab": {}
      },
      "source": [
        "# MEDIDAS: CENTRO, DISPERSÃO/VARIABILIDADE E FORMA/DISTRIBUIÇÃO\n",
        "import pandas as pd\n",
        "df = pd.read_csv('https://raw.githubusercontent.com/selva86/datasets/master/diamonds.csv')\n",
        "df.describe()"
      ],
      "execution_count": 0,
      "outputs": []
    },
    {
      "cell_type": "markdown",
      "metadata": {
        "id": "6Q8kqaEF4sts",
        "colab_type": "text"
      },
      "source": [
        "#Correlação\n",
        "\n",
        "---\n",
        "Uma correlação é uma relação entre duas variáveis. Os dados podem ser\n",
        "representados por pares ordenados (x, y), sendo x a variável independente\n",
        "(ou explanatória) e y a variável dependente (ou resposta).\n"
      ]
    },
    {
      "cell_type": "code",
      "metadata": {
        "id": "ERTEzrW9uI00",
        "colab_type": "code",
        "colab": {}
      },
      "source": [
        "# CORRELAÇÃO\n",
        "\"\"\"\n",
        "0.9 a 1 correlação muito forte;\n",
        "0.7 a 0.9 correlação forte;\n",
        "0.5 a 0.7 correlação moderada;\n",
        "0.3 a 0.5 correlação fraca;\n",
        "0 a 0.3 correlação muito fraca;\n",
        "\"\"\"\n",
        "df.corr()"
      ],
      "execution_count": 0,
      "outputs": []
    },
    {
      "cell_type": "code",
      "metadata": {
        "id": "O2F82XyGy1Y6",
        "colab_type": "code",
        "colab": {}
      },
      "source": [
        "# P-VALUE (Correlação de Pearson)\n",
        "from scipy import stats \n",
        "stats.pearsonr(df['x'], df['carat'])"
      ],
      "execution_count": 0,
      "outputs": []
    },
    {
      "cell_type": "code",
      "metadata": {
        "id": "XKME9zV3wddv",
        "colab_type": "code",
        "colab": {}
      },
      "source": [
        "# CO-VARIÂNCIA\n",
        "\"\"\"\n",
        "Covariância, ou variância conjunta, é uma medida do grau de interdependência numérica entre duas variáveis quantitativas/aleatórias.\n",
        "Assim, variáveis independentes têm covariância zero.\n",
        "\"\"\"\n",
        "df.cov()"
      ],
      "execution_count": 0,
      "outputs": []
    }
  ]
}