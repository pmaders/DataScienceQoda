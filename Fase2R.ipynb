{
  "nbformat": 4,
  "nbformat_minor": 0,
  "metadata": {
    "colab": {
      "name": "Fase2R.ipynb",
      "provenance": [],
      "include_colab_link": true
    },
    "kernelspec": {
      "name": "ir",
      "display_name": "R"
    }
  },
  "cells": [
    {
      "cell_type": "markdown",
      "metadata": {
        "id": "view-in-github",
        "colab_type": "text"
      },
      "source": [
        "<a href=\"https://colab.research.google.com/github/pmaders/DataScienceQoda/blob/master/Fase2R.ipynb\" target=\"_parent\"><img src=\"https://colab.research.google.com/assets/colab-badge.svg\" alt=\"Open In Colab\"/></a>"
      ]
    },
    {
      "cell_type": "markdown",
      "metadata": {
        "id": "Z2Kl9pfj0JKM",
        "colab_type": "text"
      },
      "source": [
        "# Seja ensinável e execute as tarefas compartilhadas. Por fins didáticos e para melhor separação mental das sintaxes Python/R, realizaremos todos os exercícios de Python em R.\n",
        "![alt text](https://media.tenor.com/images/51e469036910eb2ece677863200af5a8/tenor.gif)"
      ]
    },
    {
      "cell_type": "markdown",
      "metadata": {
        "id": "j9ZuOU7Kyh9O",
        "colab_type": "text"
      },
      "source": [
        "Crie um algoritmo em R que peça uma nota, entre 0 e 100. Mostre uma mensagem caso o valor seja inválido e continue pedindo até que o usuário informe um valor válido."
      ]
    },
    {
      "cell_type": "code",
      "metadata": {
        "id": "tlFupLd-ydTB",
        "colab_type": "code",
        "colab": {}
      },
      "source": [
        "nota <- as.integer(readline(\"Informe uma nota: \"))\n",
        "while (nota<0 || nota>100){\n",
        "  nota <- readline(\"A nota deve ser entre 0 e 100! Informe uma nova nota: \")\n",
        "  nota <- as.integer(nota)\n",
        "  if (nota>0 || nota<100){\n",
        "    break}}\n",
        "if (nota>0 || nota<100){\n",
        "  print('Nota okay!')\n",
        "}"
      ],
      "execution_count": 0,
      "outputs": []
    },
    {
      "cell_type": "markdown",
      "metadata": {
        "id": "yhw2owA-zbrn",
        "colab_type": "text"
      },
      "source": [
        "Crie um algoritmo em R que leia um nome de usuário e a sua senha e não aceite a senha igual ao nome do usuário, mostrando uma mensagem de erro e voltando a pedir as informações.<br>"
      ]
    },
    {
      "cell_type": "code",
      "metadata": {
        "id": "RJJtXkvV0qzj",
        "colab_type": "code",
        "colab": {}
      },
      "source": [
        "usuario <- readline(\"Informe um nome de usuário: \")\n",
        "senha <- readline(\"Informe uma senha: \")\n",
        "while (usuario==senha){\n",
        "  senha <- readline(\"A senha não pode ser igual ao nome de usuário. Informe uma nova senha: \")}\n",
        "if (usuario!=senha){\n",
        "  print('Usuário e Senha OK')}"
      ],
      "execution_count": 0,
      "outputs": []
    },
    {
      "cell_type": "markdown",
      "metadata": {
        "id": "35RwPIIF0w3i",
        "colab_type": "text"
      },
      "source": [
        "Crie um algoritmo em R que leia e valide as seguintes informações:\n",
        "* Nome: maior que 3 caracteres;\n",
        "* Idade: entre 0 e 150;\n",
        "* Salário: maior que zero;\n",
        "* Sexo: 'f' ou 'm';\n",
        "* Estado Civil: 's', 'c', 'v', 'd';"
      ]
    },
    {
      "cell_type": "code",
      "metadata": {
        "id": "NEFu-8L808HB",
        "colab_type": "code",
        "colab": {}
      },
      "source": [
        "nome <- as.character(readline(\"Nome: \"))\n",
        "  \n",
        "idade <- as.integer(readline(\"Idade: \"))\n",
        "#idade <- as.integer(idade)\n",
        "while (idade<0 || idade>150){\n",
        "  idade <- readline(\"Erro! A idade precisa ser entre 0 e 150. Idade: \")\n",
        "  idade <- as.integer(idade)}\n",
        "\n",
        "salario <- as.integer(readline(\"Salário: \"))\n",
        "#salario <- as.integer(salario)\n",
        "while (salario<0){\n",
        "  salario <- readline(\"O salário precisa ser maior que 0. Salário: \")\n",
        "  salario <- as.numeric(salario)}\n",
        "\n",
        "print(paste('f para feminino e m para masculino'))\n",
        "sexo <- as.character(readline(\"Sexo:\"))\n",
        "#sexo <- as.character(sexo)\n",
        "if (sexo !='f' && sexo!='m'){\n",
        "  sexo <- readline(\"Erro! f para feminino e m para masculino. Sexo:\")\n",
        "  sexo <- as.integer(sexo)}\n",
        "\n",
        "print(paste('s para solteiro, c para casado, v para viuvo e d para divorciado'))\n",
        "estadocivil <- as.character(readline(\"Estado Civil: \"))\n",
        "#estadocivil <- as.character(estadocivil)\n",
        "if (estadocivil !='s' && estadocivil!='c' && estadocivil !='v' && estadocivil!='d'){\n",
        "  estadocivil <- readline(\"Erro! s para solteiro, c para casado, v para viuvo e d para divorciado. Estado Civil: \")}\n",
        "\n",
        "print(paste(\"Suas informações:\\n NOME:\",nome,\"\\n IDADE:\",idade,\"\\n SALÁRIO: R$\",salario,\"\\n SEXO: \",sexo,\"\\n ESTADO CIVIL: \",estadocivil,\"\"))"
      ],
      "execution_count": 0,
      "outputs": []
    },
    {
      "cell_type": "markdown",
      "metadata": {
        "id": "_OGQmoYA08bI",
        "colab_type": "text"
      },
      "source": [
        "Supondo que a população de um país A seja da ordem de 80000 habitantes com uma taxa anual de crescimento de 3% e que a população de B seja 200000 habitantes com uma taxa de crescimento de 1.5%.<br><br> Crie um algoritmo em R que calcule e escreva o número de anos necessários para que a população do país A ultrapasse ou iguale a população do país B, mantidas as taxas de crescimento."
      ]
    },
    {
      "cell_type": "code",
      "metadata": {
        "id": "xxgmQ5j21Abx",
        "colab_type": "code",
        "colab": {}
      },
      "source": [
        "a <- 80000\n",
        "b <- 200000\n",
        "anos <- 0\n",
        "taxaA <- 0.03\n",
        "taxaB <- 0.015\n",
        "\n",
        "while(a<b){\n",
        "  anos= anos + 1\n",
        "  a = a + (a * taxaA)\n",
        "  b = b + (b * taxaB)\n",
        "}\n",
        "print(paste(\"Após \",anos,\" anos o país A ultrapassou o país B em número de habitantes.\"))\n",
        "print(paste(\"País A: \",a,\"\"))\n",
        "print(paste(\"País B: \",b,\"\"))"
      ],
      "execution_count": 0,
      "outputs": []
    },
    {
      "cell_type": "markdown",
      "metadata": {
        "id": "kP9TOwKo1AnS",
        "colab_type": "text"
      },
      "source": [
        "Desenvolva um gerador de tabuada, capaz de gerar a tabuada de qualquer número inteiro entre 1 a 10. O usuário deve informar de qual numero ele deseja ver a tabuada. A saída deve ser conforme o exemplo abaixo:\n",
        "Tabuada de 5:<br>\n",
        "5 X 1 = 5<br>\n",
        "5 X 2 = 10<br>\n",
        "...<br>\n",
        "5 X 10 = 50<br>"
      ]
    },
    {
      "cell_type": "code",
      "metadata": {
        "id": "Tj5xsjC-1D5I",
        "colab_type": "code",
        "colab": {}
      },
      "source": [
        "print(paste('GERADOR DE TABUADA'))\n",
        "x <- 0\n",
        "n <- as.integer(readline(\"Informe o numero: \"))\n",
        "if (n<=0 || n>10){\n",
        "  print(paste('O número deve ser entre 1 e 10! Tente novamente'))\n",
        "  n <- as.integer(readline(\"Informe o numero: \"))\n",
        "  }\n",
        "while (x <= 10){\n",
        "  print(paste(n*x))\n",
        "  x <- x+1\n",
        "  }"
      ],
      "execution_count": 0,
      "outputs": []
    },
    {
      "cell_type": "markdown",
      "metadata": {
        "id": "6vgD9pl81EGd",
        "colab_type": "text"
      },
      "source": [
        "Crie um algoritmo em R que leia três números e mostre o maior e o menor deles."
      ]
    },
    {
      "cell_type": "code",
      "metadata": {
        "id": "3h1VOEuR1KGz",
        "colab_type": "code",
        "colab": {}
      },
      "source": [
        "n1 <- as.numeric(readline(\"Informe o 1o numero: \"))\n",
        "n2 <- as.numeric(readline(\"Informe o 2o numero: \"))\n",
        "n3 <- as.numeric(readline(\"Informe o 3o numero: \"))\n",
        "\n",
        "if (n1>n2 && n1>n3){\n",
        "  print(paste(\"\",n1,\" é o maior\"))}\n",
        "if (n2>n1 && n2>n3){\n",
        "  print(paste(\"\",n2,\" é o maior\"))}\n",
        "if (n3>n1 && n3>n2){\n",
        "  print(paste(\"\",n3,\" é o maior\"))}\n",
        "\n",
        "if (n1<n2 && n1<n3){\n",
        "  print(paste(\"e \",n1,\" é o menor\"))}\n",
        "if (n2<n1 && n2<n3){\n",
        "  print(paste(\"e \",n2,\" é o menor\"))}\n",
        "if (n3<n1 && n3<n2){\n",
        "  print(paste(\"e \",n3,\" é o menor\"))}"
      ],
      "execution_count": 0,
      "outputs": []
    },
    {
      "cell_type": "markdown",
      "metadata": {
        "id": "QXhvPnMQ1Kd6",
        "colab_type": "text"
      },
      "source": [
        "Crie um algoritmo em R que peça 2 números, base e expoente, calcule e mostre o primeiro número elevado ao segundo número. Não utilize a função de potência da linguagem."
      ]
    },
    {
      "cell_type": "code",
      "metadata": {
        "id": "ywZkuhmt1N7l",
        "colab_type": "code",
        "colab": {}
      },
      "source": [
        "base <- as.numeric(readline(\"Informe a base do numero: \"))\n",
        "expoente <- as.numeric(readline(\"Informe o expoente do numero: \"))\n",
        "\n",
        "potencia <- 1\n",
        "count <- 1\n",
        "\n",
        "while (count <= expoente){\n",
        "    potencia = potencia*base\n",
        "    count = count+1\n",
        "}\n",
        "print(potencia)"
      ],
      "execution_count": 0,
      "outputs": []
    },
    {
      "cell_type": "markdown",
      "metadata": {
        "id": "F-rpjggB1T5G",
        "colab_type": "text"
      },
      "source": [
        "Crie um algoritmo em R que peça 10 números inteiros, calcule e mostre a quantidade de números pares e a quantidade de números impares."
      ]
    },
    {
      "cell_type": "code",
      "metadata": {
        "id": "nvMchfOZ2_vC",
        "colab_type": "code",
        "colab": {}
      },
      "source": [
        "pares <- 0\n",
        "for (x in 1:10){\n",
        "  n <- as.integer(readline(\"Digite um número:\"))\n",
        "  if (n %% 2 == 0){\n",
        "    pares = pares + 1\n",
        "    print(paste(pares, \"números pares\"))\n",
        "    print(paste((10 - pares), \"números ímpares\"))\n",
        "}}"
      ],
      "execution_count": 0,
      "outputs": []
    },
    {
      "cell_type": "markdown",
      "metadata": {
        "id": "C-H4OWh03DFn",
        "colab_type": "text"
      },
      "source": [
        "Um funcionário de uma empresa recebe aumento salarial anualmente: Sabe-se que: Esse funcionário foi contratado em 1995, com salário inicial de R$ 1.000,00; Em 1996 recebeu aumento de 1,5% sobre seu salário inicial; A partir de 1997 (inclusive), os aumentos salariais sempre correspondem ao dobro do percentual do ano anterior. Crie um algoritmo em R que determine o salário atual desse funcionário. Após concluir isto, altere o programa permitindo que o usuário digite o salário inicial do funcionário"
      ]
    },
    {
      "cell_type": "code",
      "metadata": {
        "id": "vs5qFAKx3Eyi",
        "colab_type": "code",
        "colab": {}
      },
      "source": [
        "salario <- 1000\n",
        "ano <- 1996\n",
        "while (ano <= 2020){\n",
        "    salario = salario * 1.015\n",
        "    ano = ano + 1\n",
        "    }\n",
        "print(salario)"
      ],
      "execution_count": 0,
      "outputs": []
    },
    {
      "cell_type": "markdown",
      "metadata": {
        "id": "PGccudSo3E54",
        "colab_type": "text"
      },
      "source": [
        "Crie um algoritmo em R com uma função que necessite de um argumento. A função retorna o valor de caractere ‘P’, se seu argumento for positivo, e ‘N’, se seu argumento for zero ou negativo."
      ]
    },
    {
      "cell_type": "code",
      "metadata": {
        "id": "_zfLyopV3IqV",
        "colab_type": "code",
        "colab": {}
      },
      "source": [
        "numero = function (x){\n",
        "  if (x > 0){\n",
        "    print(paste('P'))}\n",
        "  if(x == 0){\n",
        "    print(paste('N'))}\n",
        "  if (x < 0){\n",
        "    print(paste('N'))}\n",
        "}\n",
        "x <- as.integer(readline('Digite seu número: '))\n",
        "numero(x)"
      ],
      "execution_count": 0,
      "outputs": []
    },
    {
      "cell_type": "markdown",
      "metadata": {
        "id": "bu3Zyati3Iwc",
        "colab_type": "text"
      },
      "source": [
        "Construa uma função que receba uma data no formato DD/MM/AAAA e devolva uma string no formato D de mesPorExtenso de AAAA. Opcionalmente, valide a data e retorne NULL caso a data seja inválida."
      ]
    },
    {
      "cell_type": "code",
      "metadata": {
        "id": "Peo4D5Sz3PDC",
        "colab_type": "code",
        "colab": {}
      },
      "source": [
        "dia <- as.integer(readline(\"Digite o dia: \"))\n",
        "mes <- as.integer(readline(\"Digite o mês: \"))\n",
        "ano <- as.integer(readline(\"Digite o ano: \"))\n",
        "\n",
        "if (mes == 01){\n",
        "    print(paste(dia,\"de Janeiro de\",ano))}\n",
        "if(mes == 02){\n",
        "    print(paste(dia,\"de Fevereiro de\",ano))}\n",
        "if (mes == 03){\n",
        "    print(paste(dia,\"de Março de\",ano))}\n",
        "if (mes == 04){\n",
        "    print(paste(dia,\"de Abril de\",ano))}\n",
        "if(mes == 05){\n",
        "    print(paste(dia,\"de Maio de\",ano))}\n",
        "if (mes == 06){\n",
        "    print(paste(dia,\"de Junho de\",ano))}\n",
        "if (mes == 07){\n",
        "    print(paste(dia,\"de Julho de\",ano))}\n",
        "if(mes == 08){\n",
        "    print(paste(dia,\"de Agosto de\",ano))}\n",
        "if (mes == 09){\n",
        "    print(paste(dia,\"de Setembro de\",ano))}\n",
        "if (mes == 10){\n",
        "    print(paste(dia,\"de Outubro de\",ano))}\n",
        "if(mes == 11){\n",
        "    print(paste(dia,\"de Novembro de\",ano))}\n",
        "if (mes == 12){\n",
        "    print(paste(dia,\"de Dezembro de\",ano))}"
      ],
      "execution_count": 0,
      "outputs": []
    }
  ]
}