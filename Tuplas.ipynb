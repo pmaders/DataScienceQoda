{
  "nbformat": 4,
  "nbformat_minor": 0,
  "metadata": {
    "colab": {
      "name": "Tuplas.ipynb",
      "provenance": [],
      "private_outputs": true,
      "collapsed_sections": [],
      "include_colab_link": true
    },
    "kernelspec": {
      "name": "python3",
      "display_name": "Python 3"
    },
    "accelerator": "GPU"
  },
  "cells": [
    {
      "cell_type": "markdown",
      "metadata": {
        "id": "view-in-github",
        "colab_type": "text"
      },
      "source": [
        "<a href=\"https://colab.research.google.com/github/pmaders/DataScienceQoda/blob/master/Tuplas.ipynb\" target=\"_parent\"><img src=\"https://colab.research.google.com/assets/colab-badge.svg\" alt=\"Open In Colab\"/></a>"
      ]
    },
    {
      "cell_type": "markdown",
      "metadata": {
        "id": "6cLGqA4-QPVq",
        "colab_type": "text"
      },
      "source": [
        "# **Tuplas**\n",
        "\n",
        "---"
      ]
    },
    {
      "cell_type": "code",
      "metadata": {
        "id": "_wUSigmvQN2s",
        "colab_type": "code",
        "colab": {}
      },
      "source": [
        "# São como listas, entretanto imutáveis\n",
        "meses = (\"janeiro\",\"fevereiro\",\"março\")\n",
        "print(type(meses))"
      ],
      "execution_count": 0,
      "outputs": []
    },
    {
      "cell_type": "code",
      "metadata": {
        "id": "VTZaI0F4RNAP",
        "colab_type": "code",
        "colab": {}
      },
      "source": [
        "# Imutáveis mesmo ?\n",
        "x = list(meses)\n",
        "print(type(x))"
      ],
      "execution_count": 0,
      "outputs": []
    },
    {
      "cell_type": "code",
      "metadata": {
        "id": "cgncY-YWRZ0W",
        "colab_type": "code",
        "colab": {}
      },
      "source": [
        "x.append(\"abril\")\n",
        "print(x)"
      ],
      "execution_count": 0,
      "outputs": []
    },
    {
      "cell_type": "code",
      "metadata": {
        "id": "4lD9O8vwRhst",
        "colab_type": "code",
        "colab": {}
      },
      "source": [
        "meses = tuple(x)\n",
        "print(meses)"
      ],
      "execution_count": 0,
      "outputs": []
    },
    {
      "cell_type": "code",
      "metadata": {
        "id": "Xx6gnAW5RnxH",
        "colab_type": "code",
        "colab": {}
      },
      "source": [
        "print(type(meses))"
      ],
      "execution_count": 0,
      "outputs": []
    },
    {
      "cell_type": "code",
      "metadata": {
        "id": "AwW_4lCzcC7q",
        "colab_type": "code",
        "colab": {}
      },
      "source": [
        "# Slicing com Tuplas\n",
        "print(meses[1:])"
      ],
      "execution_count": 0,
      "outputs": []
    },
    {
      "cell_type": "code",
      "metadata": {
        "id": "fZ6UGw-KcThO",
        "colab_type": "code",
        "colab": {}
      },
      "source": [
        "# len() em tuplas\n",
        "print(len(meses))"
      ],
      "execution_count": 0,
      "outputs": []
    },
    {
      "cell_type": "code",
      "metadata": {
        "id": "c66QqQERcO8Y",
        "colab_type": "code",
        "colab": {}
      },
      "source": [
        "# Atribuição em tuplas? não é possível\n",
        "meses[3] = \"abril\""
      ],
      "execution_count": 0,
      "outputs": []
    },
    {
      "cell_type": "code",
      "metadata": {
        "id": "pdifpt8hQ8SO",
        "colab_type": "code",
        "colab": {}
      },
      "source": [
        "dir(tuple)"
      ],
      "execution_count": 0,
      "outputs": []
    },
    {
      "cell_type": "code",
      "metadata": {
        "id": "J_7OFzeYRC1C",
        "colab_type": "code",
        "colab": {}
      },
      "source": [
        "help(tuple)"
      ],
      "execution_count": 0,
      "outputs": []
    }
  ]
}