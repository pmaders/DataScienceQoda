{
  "nbformat": 4,
  "nbformat_minor": 0,
  "metadata": {
    "colab": {
      "name": "Strings.ipynb",
      "provenance": [],
      "private_outputs": true,
      "collapsed_sections": [
        "j43FEtd3NoCc"
      ],
      "include_colab_link": true
    },
    "kernelspec": {
      "name": "python3",
      "display_name": "Python 3"
    },
    "accelerator": "GPU"
  },
  "cells": [
    {
      "cell_type": "markdown",
      "metadata": {
        "id": "view-in-github",
        "colab_type": "text"
      },
      "source": [
        "<a href=\"https://colab.research.google.com/github/pmaders/DataScienceQoda/blob/master/Strings.ipynb\" target=\"_parent\"><img src=\"https://colab.research.google.com/assets/colab-badge.svg\" alt=\"Open In Colab\"/></a>"
      ]
    },
    {
      "cell_type": "markdown",
      "metadata": {
        "id": "gzUHH1OTLuGr",
        "colab_type": "text"
      },
      "source": [
        "# **Strings**\n",
        "---"
      ]
    },
    {
      "cell_type": "code",
      "metadata": {
        "id": "LUUxHuzQQhar",
        "colab_type": "code",
        "colab": {}
      },
      "source": [
        "nome = \"Weber\"\n",
        "print(type(nome))"
      ],
      "execution_count": 0,
      "outputs": []
    },
    {
      "cell_type": "code",
      "metadata": {
        "id": "E7tm5rJ0qTm9",
        "colab_type": "code",
        "colab": {}
      },
      "source": [
        "# F STRING\n",
        "print(f\"Oi, eu sou o {nome}\")"
      ],
      "execution_count": 0,
      "outputs": []
    },
    {
      "cell_type": "code",
      "metadata": {
        "id": "t2K-6OsTGnow",
        "colab_type": "code",
        "colab": {}
      },
      "source": [
        "# Formatando com F STRING\n",
        "x = 1.61803399\n",
        "print(f\"O número de ouro é {x:.2f}\")"
      ],
      "execution_count": 0,
      "outputs": []
    },
    {
      "cell_type": "code",
      "metadata": {
        "id": "McHdCpQWGVO0",
        "colab_type": "code",
        "colab": {}
      },
      "source": [
        "# CONCATENAÇÃO \n",
        "a = \"chat\"\n",
        "b = \"bot\"\n",
        "print(a+b)"
      ],
      "execution_count": 0,
      "outputs": []
    },
    {
      "cell_type": "code",
      "metadata": {
        "id": "UMrohbY7GVX4",
        "colab_type": "code",
        "colab": {}
      },
      "source": [
        "# ATRIBUIÇÃO DE NOVAS STRINGS\n",
        "c = \"ro\"\n",
        "print(c+b)"
      ],
      "execution_count": 0,
      "outputs": []
    },
    {
      "cell_type": "code",
      "metadata": {
        "id": "1VeljxxXGVjJ",
        "colab_type": "code",
        "colab": {}
      },
      "source": [
        "# SLICING/FATIAMENTO\n",
        "frase = \"Esta é uma string\"\n",
        "print(frase[0])"
      ],
      "execution_count": 0,
      "outputs": []
    },
    {
      "cell_type": "code",
      "metadata": {
        "id": "nvxR0Ue-ICak",
        "colab_type": "code",
        "colab": {}
      },
      "source": [
        "# string[começo:fim:passos]\n",
        "print(frase[::2])"
      ],
      "execution_count": 0,
      "outputs": []
    },
    {
      "cell_type": "code",
      "metadata": {
        "id": "yHG9XYX3Gbce",
        "colab_type": "code",
        "colab": {}
      },
      "source": [
        "# ATRIBUTOS DO OBJETO str (https://docs.python.org/3/contents.html)\n",
        "dir(str)"
      ],
      "execution_count": 0,
      "outputs": []
    },
    {
      "cell_type": "code",
      "metadata": {
        "id": "3MwhxK_7LQo9",
        "colab_type": "code",
        "colab": {}
      },
      "source": [
        "# Help!\n",
        "help(str)"
      ],
      "execution_count": 0,
      "outputs": []
    },
    {
      "cell_type": "markdown",
      "metadata": {
        "id": "5291NxTLIg_O",
        "colab_type": "text"
      },
      "source": [
        "# **>>> Exercícios**\n",
        "---\n",
        "\n",
        "\n",
        "\n"
      ]
    },
    {
      "cell_type": "markdown",
      "metadata": {
        "id": "MN7Xn9yUNd_h",
        "colab_type": "text"
      },
      "source": [
        "1.   Crie um algoritmo que solicite o nome do usuário e printe na sequência: \"Bem vindo(a), <nome do usuário>\" (fácil)\n"
      ]
    },
    {
      "cell_type": "code",
      "metadata": {
        "id": "CWbtywdkNjoj",
        "colab_type": "code",
        "colab": {}
      },
      "source": [
        "# Insira seu código aqui\n",
        "usuario = input(\"Digite seu nome: \")\n",
        "print: (f\"Bem vindo\", (usuario))\n"
      ],
      "execution_count": 0,
      "outputs": []
    },
    {
      "cell_type": "markdown",
      "metadata": {
        "id": "5Yqygyq0NgfA",
        "colab_type": "text"
      },
      "source": [
        "2.   Crie um algoritmo que solicite do usuário nome e idade, printando na tela as informações organizadas em 1 frase. (médio)"
      ]
    },
    {
      "cell_type": "code",
      "metadata": {
        "id": "jrrT7mllNluS",
        "colab_type": "code",
        "colab": {}
      },
      "source": [
        "nome = input(\"Digite seu nome: \")\n",
        "idade= input(\"digite sus idade: \")\n",
        "print: (f\"O estudante\",nome,\"tem\",idade, \"anos.\")"
      ],
      "execution_count": 0,
      "outputs": []
    },
    {
      "cell_type": "markdown",
      "metadata": {
        "id": "HhGHhXI8NiJG",
        "colab_type": "text"
      },
      "source": [
        "3.   Crie um algoritmo que solicite uma palavra e verifique se é um palíndromo, printando na tela o resultado (difícil)"
      ]
    },
    {
      "cell_type": "code",
      "metadata": {
        "id": "WwrspHX1Nmp6",
        "colab_type": "code",
        "colab": {}
      },
      "source": [
        "palavra = input(\"Digite uma palavra: \")\n",
        "if palavra == palavra[::-1]:\n",
        "  print(\"Palíndromo!\")\n",
        "else:\n",
        "  print(\"Não é palíndromo!\")"
      ],
      "execution_count": 0,
      "outputs": []
    },
    {
      "cell_type": "markdown",
      "metadata": {
        "id": "j43FEtd3NoCc",
        "colab_type": "text"
      },
      "source": [
        "## **>>> Solução**\n",
        "\n",
        "---\n",
        "\n",
        "Visualize a solução abaixo"
      ]
    },
    {
      "cell_type": "code",
      "metadata": {
        "id": "yr2-wMl2Nxro",
        "colab_type": "code",
        "colab": {}
      },
      "source": [
        "# Exercício 1\n",
        "nome = input(\"Qual é o seu nome?\")\n",
        "print(f\"Bem vindo(a), {nome}\")"
      ],
      "execution_count": 0,
      "outputs": []
    },
    {
      "cell_type": "code",
      "metadata": {
        "id": "w1H_EKa7NyqK",
        "colab_type": "code",
        "colab": {}
      },
      "source": [
        "# Exercício 2\n",
        "nome = input(\"Qual seu nome?\")\n",
        "idade = input(\"Quantos anos você tem?\")\n",
        "print(f\"Olá, {nome}! Que maravilha, tens {idade} anos e isto é ótimo!\")"
      ],
      "execution_count": 0,
      "outputs": []
    },
    {
      "cell_type": "code",
      "metadata": {
        "id": "Kxh_rh1fNy1K",
        "colab_type": "code",
        "colab": {}
      },
      "source": [
        "# Exercício 3\n",
        "x = input(\"Digite 1 palavra:\")\n",
        "if x == x[::-1]:\n",
        "  print(\"Palíndromo!\")\n",
        "else:\n",
        "  print(\"Não é palíndromo!\")"
      ],
      "execution_count": 0,
      "outputs": []
    }
  ]
}